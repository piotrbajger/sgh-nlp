{
 "cells": [
  {
   "cell_type": "markdown",
   "metadata": {},
   "source": [
    "# SGH conference"
   ]
  },
  {
   "cell_type": "markdown",
   "metadata": {},
   "source": [
    "## The Reuters-21578 dataset"
   ]
  },
  {
   "cell_type": "markdown",
   "metadata": {},
   "source": [
    "Reuters dataset description"
   ]
  },
  {
   "cell_type": "code",
   "execution_count": 179,
   "metadata": {},
   "outputs": [],
   "source": [
    "from nltk.corpus import stopwords, reuters\n",
    "import nltk\n",
    "from sklearn.feature_extraction.text import CountVectorizer, TfidfVectorizer\n",
    "from sklearn.naive_bayes import MultinomialNB, GaussianNB\n",
    "from sklearn import metrics\n",
    "import pandas as pd"
   ]
  },
  {
   "cell_type": "markdown",
   "metadata": {},
   "source": [
    "Data preparation"
   ]
  },
  {
   "cell_type": "code",
   "execution_count": 94,
   "metadata": {},
   "outputs": [
    {
     "name": "stdout",
     "output_type": "stream",
     "text": [
      "Total training docs: 7769.\n",
      " Total testing docs: 3019.\n"
     ]
    }
   ],
   "source": [
    "train_ids = [fid for fid in reuters.fileids() if fid.startswith('train')]\n",
    "test_ids = [fid for fid in reuters.fileids() if fid.startswith('test')]\n",
    "\n",
    "print(f\"Total training docs: {len(train_ids)}.\")\n",
    "print(f\" Total testing docs: {len(test_ids)}.\")"
   ]
  },
  {
   "cell_type": "code",
   "execution_count": 95,
   "metadata": {},
   "outputs": [],
   "source": [
    "train_docs = [reuters.raw(fid) for fid in train_ids]\n",
    "test_docs = [reuters.raw(fid) for fid in test_ids]\n",
    "\n",
    "train_labels = [reuters.categories(fid) for fid in train_ids]\n",
    "test_labels = [reuters.categories(fid) for fid in test_ids]"
   ]
  },
  {
   "cell_type": "code",
   "execution_count": 170,
   "metadata": {},
   "outputs": [
    {
     "name": "stderr",
     "output_type": "stream",
     "text": [
      "/home/larskormak/workdir/sgh-nlp/env/lib/python3.6/site-packages/sklearn/feature_extraction/text.py:301: UserWarning: Your stop_words may be inconsistent with your preprocessing. Tokenizing the stop words generated tokens ['could', 'might', 'must', 'need', 'sha', 'wo', 'would'] not in stop_words.\n",
      "  'stop_words.' % sorted(inconsistent))\n"
     ]
    },
    {
     "name": "stdout",
     "output_type": "stream",
     "text": [
      "Extracted 23793 features.\n"
     ]
    }
   ],
   "source": [
    "class Tokenizer():\n",
    "    def __init__(self):\n",
    "        pass\n",
    "    \n",
    "    def __call__(self, text):\n",
    "        tokens = nltk.word_tokenize(text)\n",
    "        tokens = [t for t in tokens if t.isalpha()]\n",
    "        return tokens\n",
    "\n",
    "vect = TfidfVectorizer(\n",
    "    stop_words=stopwords.words('english'),\n",
    "    tokenizer=Tokenizer(),\n",
    "    max_df=0.7\n",
    "    # norm='l2'\n",
    ")\n",
    "\n",
    "train_x = vect.fit_transform(train_docs)\n",
    "\n",
    "test_x = vect.transform(test_docs)\n",
    "\n",
    "feature_names = vect.get_feature_names()\n",
    "\n",
    "print(f\"Extracted {len(feature_names)} features.\")"
   ]
  },
  {
   "cell_type": "code",
   "execution_count": 171,
   "metadata": {},
   "outputs": [
    {
     "name": "stdout",
     "output_type": "stream",
     "text": [
      "['acq', 'alum', 'barley', 'bop', 'carcass', 'castor-oil', 'cocoa', 'coconut', 'coconut-oil', 'coffee', 'copper', 'copra-cake', 'corn', 'cotton', 'cotton-oil', 'cpi', 'cpu', 'crude', 'dfl', 'dlr', 'dmk', 'earn', 'fuel', 'gas', 'gnp', 'gold', 'grain', 'groundnut', 'groundnut-oil', 'heat', 'hog', 'housing', 'income', 'instal-debt', 'interest', 'ipi', 'iron-steel', 'jet', 'jobs', 'l-cattle', 'lead', 'lei', 'lin-oil', 'livestock', 'lumber', 'meal-feed', 'money-fx', 'money-supply', 'naphtha', 'nat-gas', 'nickel', 'nkr', 'nzdlr', 'oat', 'oilseed', 'orange', 'palladium', 'palm-oil', 'palmkernel', 'pet-chem', 'platinum', 'potato', 'propane', 'rand', 'rape-oil', 'rapeseed', 'reserves', 'retail', 'rice', 'rubber', 'rye', 'ship', 'silver', 'sorghum', 'soy-meal', 'soy-oil', 'soybean', 'strategic-metal', 'sugar', 'sun-meal', 'sun-oil', 'sunseed', 'tea', 'tin', 'trade', 'veg-oil', 'wheat', 'wpi', 'yen', 'zinc']\n",
      "Training: 35.\n",
      " Testing: 23.\n"
     ]
    }
   ],
   "source": [
    "print(reuters.categories())\n",
    "cat = 'alum'\n",
    "train_y = [(cat in label) for label in train_labels]\n",
    "test_y = [(cat in label) for label in test_labels]\n",
    "\n",
    "print(f\"Training: {sum(train_y)}.\")\n",
    "print(f\" Testing: {sum(test_y)}.\")"
   ]
  },
  {
   "cell_type": "code",
   "execution_count": 183,
   "metadata": {},
   "outputs": [
    {
     "name": "stdout",
     "output_type": "stream",
     "text": [
      "              precision    recall  f1-score   support\n",
      "\n",
      "       False       0.99      0.99      0.99      2996\n",
      "        True       0.24      0.22      0.23        23\n",
      "\n",
      "   micro avg       0.99      0.99      0.99      3019\n",
      "   macro avg       0.62      0.61      0.61      3019\n",
      "weighted avg       0.99      0.99      0.99      3019\n",
      "\n",
      "[[2980   16]\n",
      " [  18    5]]\n"
     ]
    }
   ],
   "source": [
    "nb = GaussianNB()\n",
    "\n",
    "nb.fit(train_x.toarray(), train_y)\n",
    "\n",
    "pred_y = nb.predict(test_x.toarray())\n",
    "pred_train = nb.predict(train_x.toarray())\n",
    "\n",
    "print(metrics.classification_report(test_y, pred_y))\n",
    "print(metrics.confusion_matrix(test_y, pred_y))"
   ]
  },
  {
   "cell_type": "code",
   "execution_count": 157,
   "metadata": {},
   "outputs": [
    {
     "data": {
      "text/plain": [
       "[[2255, 45], [22, 697]]"
      ]
     },
     "execution_count": 157,
     "metadata": {},
     "output_type": "execute_result"
    }
   ],
   "source": [
    "[[2255,   45],\n",
    " [  22,  697]]"
   ]
  },
  {
   "cell_type": "code",
   "execution_count": null,
   "metadata": {},
   "outputs": [],
   "source": []
  }
 ],
 "metadata": {
  "kernelspec": {
   "display_name": "sgh-nlp",
   "language": "python",
   "name": "sgh-nlp"
  },
  "language_info": {
   "codemirror_mode": {
    "name": "ipython",
    "version": 3
   },
   "file_extension": ".py",
   "mimetype": "text/x-python",
   "name": "python",
   "nbconvert_exporter": "python",
   "pygments_lexer": "ipython3",
   "version": "3.6.7"
  }
 },
 "nbformat": 4,
 "nbformat_minor": 2
}
