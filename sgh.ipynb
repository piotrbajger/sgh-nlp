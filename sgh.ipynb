{
 "cells": [
  {
   "cell_type": "markdown",
   "metadata": {},
   "source": [
    "# SGH conference"
   ]
  },
  {
   "cell_type": "markdown",
   "metadata": {},
   "source": [
    "## The Reuters-21578 dataset"
   ]
  },
  {
   "cell_type": "markdown",
   "metadata": {},
   "source": [
    "Reuters dataset description"
   ]
  },
  {
   "cell_type": "code",
   "execution_count": 11,
   "metadata": {},
   "outputs": [],
   "source": [
    "from nltk.corpus import stopwords, reuters\n",
    "import nltk\n",
    "from sklearn.feature_extraction.text import CountVectorizer, TfidfVectorizer\n",
    "from sklearn.naive_bayes import MultinomialNB, GaussianNB\n",
    "from sklearn import metrics\n",
    "import pandas as pd"
   ]
  },
  {
   "cell_type": "markdown",
   "metadata": {},
   "source": [
    "Data preparation"
   ]
  },
  {
   "cell_type": "code",
   "execution_count": 12,
   "metadata": {},
   "outputs": [
    {
     "name": "stdout",
     "output_type": "stream",
     "text": [
      "Total training docs: 7769.\n",
      " Total testing docs: 3019.\n"
     ]
    }
   ],
   "source": [
    "train_ids = [fid for fid in reuters.fileids() if fid.startswith('train')]\n",
    "test_ids = [fid for fid in reuters.fileids() if fid.startswith('test')]\n",
    "\n",
    "print(f\"Total training docs: {len(train_ids)}.\")\n",
    "print(f\" Total testing docs: {len(test_ids)}.\")"
   ]
  },
  {
   "cell_type": "code",
   "execution_count": 13,
   "metadata": {},
   "outputs": [],
   "source": [
    "train_docs = [reuters.raw(fid) for fid in train_ids]\n",
    "test_docs = [reuters.raw(fid) for fid in test_ids]\n",
    "\n",
    "train_labels = [reuters.categories(fid) for fid in train_ids]\n",
    "test_labels = [reuters.categories(fid) for fid in test_ids]"
   ]
  },
  {
   "cell_type": "code",
   "execution_count": 14,
   "metadata": {},
   "outputs": [
    {
     "name": "stdout",
     "output_type": "stream",
     "text": [
      "Extracted 26283 features.\n"
     ]
    }
   ],
   "source": [
    "class Tokenizer():\n",
    "    def __init__(self):\n",
    "        pass\n",
    "    \n",
    "    def __call__(self, text):\n",
    "        tokens = nltk.word_tokenize(text)\n",
    "        tokens = [t for t in tokens if t.isalpha()]\n",
    "        return tokens\n",
    "\n",
    "vect = CountVectorizer(\n",
    "    # stop_words=stopwords.words('english'),\n",
    "    # tokenizer=Tokenizer(),\n",
    "    # max_df=0.7\n",
    "    # norm='l2'\n",
    ")\n",
    "\n",
    "train_x = vect.fit_transform(train_docs)\n",
    "\n",
    "test_x = vect.transform(test_docs)\n",
    "\n",
    "feature_names = vect.get_feature_names()\n",
    "\n",
    "print(f\"Extracted {len(feature_names)} features.\")"
   ]
  },
  {
   "cell_type": "code",
   "execution_count": 15,
   "metadata": {},
   "outputs": [
    {
     "name": "stdout",
     "output_type": "stream",
     "text": [
      "Training: 111.\n",
      " Testing: 28.\n"
     ]
    }
   ],
   "source": [
    "cat = 'coffee'\n",
    "train_y = [(cat in label) for label in train_labels]\n",
    "test_y = [(cat in label) for label in test_labels]\n",
    "\n",
    "print(f\"Training: {sum(train_y)}.\")\n",
    "print(f\" Testing: {sum(test_y)}.\")"
   ]
  },
  {
   "cell_type": "code",
   "execution_count": 16,
   "metadata": {},
   "outputs": [
    {
     "name": "stdout",
     "output_type": "stream",
     "text": [
      "              precision    recall  f1-score   support\n",
      "\n",
      "       False       1.00      0.99      1.00      2991\n",
      "        True       0.57      0.96      0.72        28\n",
      "\n",
      "   micro avg       0.99      0.99      0.99      3019\n",
      "   macro avg       0.79      0.98      0.86      3019\n",
      "weighted avg       1.00      0.99      0.99      3019\n",
      "\n",
      "[[2971   20]\n",
      " [   1   27]]\n"
     ]
    }
   ],
   "source": [
    "nb = MultinomialNB(alpha=0.1)\n",
    "\n",
    "nb.fit(train_x.toarray(), train_y)\n",
    "\n",
    "pred_y = nb.predict(test_x.toarray())\n",
    "\n",
    "print(metrics.classification_report(test_y, pred_y))\n",
    "print(metrics.confusion_matrix(test_y, pred_y))"
   ]
  },
  {
   "cell_type": "code",
   "execution_count": null,
   "metadata": {},
   "outputs": [],
   "source": []
  }
 ],
 "metadata": {
  "kernelspec": {
   "display_name": "Python 3",
   "language": "python",
   "name": "python3"
  },
  "language_info": {
   "codemirror_mode": {
    "name": "ipython",
    "version": 3
   },
   "file_extension": ".py",
   "mimetype": "text/x-python",
   "name": "python",
   "nbconvert_exporter": "python",
   "pygments_lexer": "ipython3",
   "version": "3.7.2"
  }
 },
 "nbformat": 4,
 "nbformat_minor": 2
}
